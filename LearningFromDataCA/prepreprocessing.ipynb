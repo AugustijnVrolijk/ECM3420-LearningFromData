{
 "cells": [
  {
   "cell_type": "code",
   "execution_count": 25,
   "metadata": {},
   "outputs": [],
   "source": [
    "import pandas as pd\n",
    "import os.path\n",
    "import matplotlib.pyplot as plt"
   ]
  },
  {
   "cell_type": "code",
   "execution_count": 26,
   "metadata": {},
   "outputs": [
    {
     "name": "stdout",
     "output_type": "stream",
     "text": [
      "<class 'pandas.core.frame.DataFrame'>\n",
      "RangeIndex: 22137 entries, 0 to 22136\n",
      "Data columns (total 6 columns):\n",
      " #   Column     Non-Null Count  Dtype \n",
      "---  ------     --------------  ----- \n",
      " 0   set_num    22137 non-null  object\n",
      " 1   name       22137 non-null  object\n",
      " 2   year       22137 non-null  int64 \n",
      " 3   theme_id   22137 non-null  int64 \n",
      " 4   num_parts  22137 non-null  int64 \n",
      " 5   img_url    22137 non-null  object\n",
      "dtypes: int64(3), object(3)\n",
      "memory usage: 1.0+ MB\n",
      "<class 'pandas.core.frame.DataFrame'>\n",
      "RangeIndex: 469 entries, 0 to 468\n",
      "Data columns (total 3 columns):\n",
      " #   Column     Non-Null Count  Dtype  \n",
      "---  ------     --------------  -----  \n",
      " 0   id         469 non-null    int64  \n",
      " 1   name       469 non-null    object \n",
      " 2   parent_id  324 non-null    float64\n",
      "dtypes: float64(1), int64(1), object(1)\n",
      "memory usage: 11.1+ KB\n"
     ]
    }
   ],
   "source": [
    "path1 = os.getcwd() + \".\\\\files\\sets.csv\"\n",
    "path2 = os.getcwd() + \".\\\\files\\\\themes.csv\"\n",
    "data_Sets = pd.read_csv(path1)\n",
    "data_themes = pd.read_csv(path2)\n",
    "data_Sets.info()  \n",
    "data_themes.info()"
   ]
  },
  {
   "cell_type": "code",
   "execution_count": 27,
   "metadata": {},
   "outputs": [
    {
     "name": "stdout",
     "output_type": "stream",
     "text": [
      "           set_num                                     name  year  \\\n",
      "0            001-1                                    Gears  1965   \n",
      "1           0011-2                        Town Mini-Figures  1979   \n",
      "3           0012-1                       Space Mini-Figures  1979   \n",
      "4           0013-1                       Space Mini-Figures  1979   \n",
      "5           0014-1                       Space Mini-Figures  1979   \n",
      "...            ...                                      ...   ...   \n",
      "22124    WLB6701-1  Ninjago: Destiny's Bounty Adventure Box  2021   \n",
      "22131   XMASTREE-1                           Christmas Tree  2019   \n",
      "22132      XWING-1                      Mini X-Wing Fighter  2019   \n",
      "22133      XWING-2                        X-Wing Trench Run  2019   \n",
      "22134  YODACHRON-1          Yoda Chronicles Promotional Set  2013   \n",
      "\n",
      "       set_num_parts                                            img_url  \\\n",
      "0                 43   https://cdn.rebrickable.com/media/sets/001-1.jpg   \n",
      "1                 12  https://cdn.rebrickable.com/media/sets/0011-2.jpg   \n",
      "3                 12  https://cdn.rebrickable.com/media/sets/0012-1.jpg   \n",
      "4                 12  https://cdn.rebrickable.com/media/sets/0013-1.jpg   \n",
      "5                  2  https://cdn.rebrickable.com/media/sets/0014-1.jpg   \n",
      "...              ...                                                ...   \n",
      "22124             47  https://cdn.rebrickable.com/media/sets/wlb6701...   \n",
      "22131             26  https://cdn.rebrickable.com/media/sets/xmastre...   \n",
      "22132             60  https://cdn.rebrickable.com/media/sets/xwing-1...   \n",
      "22133             52  https://cdn.rebrickable.com/media/sets/xwing-2...   \n",
      "22134            413  https://cdn.rebrickable.com/media/sets/yodachr...   \n",
      "\n",
      "              theme         sub_theme  \n",
      "0           Technic           Technic  \n",
      "1      Classic Town              Town  \n",
      "3      Supplemental             Space  \n",
      "4      Supplemental             Space  \n",
      "5      Supplemental             Space  \n",
      "...             ...               ...  \n",
      "22124         Books             Books  \n",
      "22131  Pick A Model  LEGO Brand Store  \n",
      "22132     Star Wars         Star Wars  \n",
      "22133     Star Wars         Star Wars  \n",
      "22134     Star Wars         Star Wars  \n",
      "\n",
      "[17279 rows x 7 columns]\n"
     ]
    }
   ],
   "source": [
    "id_to_name_dict = data_themes.set_index('id')['name'].to_dict()\n",
    "\n",
    "# Create a new column 'parent_name' by mapping 'parent_id' to 'name'\n",
    "data_themes['parent_name'] = data_themes['parent_id'].map(id_to_name_dict)\n",
    "data_themes['parent_name'].fillna(data_themes['name'], inplace=True)\n",
    "data_themes.rename(columns={'id': 'theme_id','name': 'theme', 'parent_name': 'sub_theme'}, inplace=True)\n",
    "data_themes = data_themes.drop('parent_id', axis=1)\n",
    "\n",
    "merged_data = pd.merge(data_Sets, data_themes, on='theme_id', how='left')\n",
    "merged_data = merged_data.drop('theme_id', axis=1)\n",
    "merged_data = merged_data[merged_data['num_parts'] != 0]\n",
    "merged_data.rename(columns={'num_parts': 'set_num_parts'}, inplace=True)\n",
    "\n",
    "\n",
    "# Display the result\n",
    "print(merged_data)"
   ]
  },
  {
   "cell_type": "code",
   "execution_count": 29,
   "metadata": {},
   "outputs": [],
   "source": [
    "merged_data.to_csv('Sets.csv', index=False)\n"
   ]
  },
  {
   "cell_type": "markdown",
   "metadata": {},
   "source": [
    "LEFT MERGE TWO THINGS ABOVE"
   ]
  },
  {
   "cell_type": "code",
   "execution_count": 35,
   "metadata": {},
   "outputs": [],
   "source": [
    "import pandas as pd\n",
    "import os.path\n",
    "import matplotlib.pyplot as plt"
   ]
  },
  {
   "cell_type": "code",
   "execution_count": 36,
   "metadata": {},
   "outputs": [
    {
     "name": "stdout",
     "output_type": "stream",
     "text": [
      "<class 'pandas.core.frame.DataFrame'>\n",
      "RangeIndex: 17279 entries, 0 to 17278\n",
      "Data columns (total 7 columns):\n",
      " #   Column         Non-Null Count  Dtype \n",
      "---  ------         --------------  ----- \n",
      " 0   set_num        17279 non-null  object\n",
      " 1   name           17279 non-null  object\n",
      " 2   year           17279 non-null  int64 \n",
      " 3   set_num_parts  17279 non-null  int64 \n",
      " 4   img_url        17279 non-null  object\n",
      " 5   theme          17279 non-null  object\n",
      " 6   sub_theme      17279 non-null  object\n",
      "dtypes: int64(2), object(5)\n",
      "memory usage: 945.1+ KB\n"
     ]
    }
   ],
   "source": [
    "path1 = os.getcwd() + \".\\\\files\\Sets.csv\"\n",
    "data_Sets = pd.read_csv(path1)\n",
    "data_Sets.info()  \n"
   ]
  },
  {
   "cell_type": "code",
   "execution_count": 45,
   "metadata": {},
   "outputs": [
    {
     "name": "stdout",
     "output_type": "stream",
     "text": [
      "<class 'pandas.core.frame.DataFrame'>\n",
      "Index: 3077 entries, 0 to 17272\n",
      "Data columns (total 7 columns):\n",
      " #   Column         Non-Null Count  Dtype \n",
      "---  ------         --------------  ----- \n",
      " 0   set_num        3077 non-null   object\n",
      " 1   name           3077 non-null   object\n",
      " 2   year           3077 non-null   int64 \n",
      " 3   set_num_parts  3077 non-null   int64 \n",
      " 4   img_url        3077 non-null   object\n",
      " 5   theme          3077 non-null   object\n",
      " 6   sub_theme      3077 non-null   object\n",
      "dtypes: int64(2), object(5)\n",
      "memory usage: 192.3+ KB\n",
      "['Technic', 'Service Packs', 'Creator', 'Bulk Bricks', 'City', 'Classic', 'Juniors', 'Disney', 'Books', 'Architecture', 'Educational and Dacta', 'Minecraft', 'Elves', 'Advent', 'Friends', 'Speed Champions', 'Power Functions']\n",
      "['Technic', 'Creator Expert', 'Airport', 'Supplemental', 'Classic', 'Juniors', 'Marvel Super Heroes', 'DC Comics Super Heroes', 'Ninjago', 'Disney Princess', 'Friends', 'Cars', 'Jurassic World: Fallen Kingdom', 'Disney', 'RoboRiders', 'Architecture', 'Fire', 'Hospital', 'Skylines', 'Minecraft', 'Harbor', 'Elves', 'City', 'Competition', 'Police', 'Construction', 'Traffic', 'Coast Guard', 'Arctic', 'Speed Champions', 'Jungle', 'Mars Exploration', 'Frozen', 'Creator 3-in-1', 'Farm', 'Trains', 'Off-Road', 'Cargo', 'Stuntz', 'Star Wars', 'Universal Building Set', 'Speed Slammers', 'Power Functions', 'Throwbot Slizer', 'Expert Builder', 'Powered Up', 'eLAB', 'Control Lab']\n"
     ]
    }
   ],
   "source": [
    "unique_themes = ['Architecture', 'BrickHeadz', 'City', 'Classic', 'Creator 3-in-1', 'Creator Expert', 'DC Comics Super Heroes', 'Disney', 'DUPLO', 'Elves', 'Friends', 'Ghostbusters™', 'Ideas', 'Juniors', 'Indoraptor Rampage at Lockwood Estate', 'Jurassic Park Velociraptor Chase', 'Dilophosaurus Outpost Attack', 'Stygimoloch Breakout', 'Pteranodon Chase', 'Marvel Super Heroes', 'MINDSTORMS®', 'Minecraft', 'Minifigures', 'NEXO KNIGHTS', 'NINJAGO', 'SERIOUS PLAY', 'Speed Champions', 'Star Wars™', 'Technic', 'Power Functions', 'THE LEGO BATMAN MOVIE', 'Carnotaurus Gyrosphere Escape', 'LEGO Creator 3-in-1']\n",
    "filtered_data_Set = data_Sets[data_Sets['theme'].isin(unique_themes) | data_Sets['sub_theme'].isin(unique_themes)]\n",
    "filtered_data_Set.info()\n",
    "sub_themes_unique = filtered_data_Set['sub_theme'].unique().tolist()\n",
    "themes_unique = filtered_data_Set['theme'].unique().tolist()\n",
    "print(sub_themes_unique)\n",
    "print(themes_unique)\n",
    "filtered_data_Set.to_csv('Sets.csv', index=False)\n",
    "\n"
   ]
  },
  {
   "cell_type": "code",
   "execution_count": 46,
   "metadata": {},
   "outputs": [
    {
     "name": "stdout",
     "output_type": "stream",
     "text": [
      "<class 'pandas.core.frame.DataFrame'>\n",
      "RangeIndex: 37601 entries, 0 to 37600\n",
      "Data columns (total 3 columns):\n",
      " #   Column   Non-Null Count  Dtype \n",
      "---  ------   --------------  ----- \n",
      " 0   id       37601 non-null  int64 \n",
      " 1   version  37601 non-null  int64 \n",
      " 2   set_num  37601 non-null  object\n",
      "dtypes: int64(2), object(1)\n",
      "memory usage: 881.4+ KB\n"
     ]
    }
   ],
   "source": [
    "path2 = os.getcwd() + \".\\\\files\\inventories.csv\"\n",
    "data_inventories = pd.read_csv(path2)\n",
    "data_inventories.info()"
   ]
  },
  {
   "cell_type": "code",
   "execution_count": 55,
   "metadata": {},
   "outputs": [
    {
     "name": "stdout",
     "output_type": "stream",
     "text": [
      "<class 'pandas.core.frame.DataFrame'>\n",
      "RangeIndex: 3437 entries, 0 to 3436\n",
      "Data columns (total 7 columns):\n",
      " #   Column         Non-Null Count  Dtype \n",
      "---  ------         --------------  ----- \n",
      " 0   set_num        3437 non-null   object\n",
      " 1   name           3437 non-null   object\n",
      " 2   year           3437 non-null   int64 \n",
      " 3   set_num_parts  3437 non-null   int64 \n",
      " 4   theme          3437 non-null   object\n",
      " 5   sub_theme      3437 non-null   object\n",
      " 6   inventory_id   3437 non-null   int64 \n",
      "dtypes: int64(3), object(4)\n",
      "memory usage: 188.1+ KB\n"
     ]
    }
   ],
   "source": [
    "merged_df = filtered_data_Set.merge(data_inventories, on='set_num', how='left')\n",
    "\n",
    "# Print the merged DataFrame\n",
    "merged_df = merged_df.drop(columns=['img_url','version'])\n",
    "merged_df = merged_df.rename(columns={'id': 'inventory_id'})\n",
    "\n",
    "merged_df.info()\n"
   ]
  },
  {
   "cell_type": "code",
   "execution_count": null,
   "metadata": {},
   "outputs": [],
   "source": []
  }
 ],
 "metadata": {
  "kernelspec": {
   "display_name": "Python 3",
   "language": "python",
   "name": "python3"
  },
  "language_info": {
   "codemirror_mode": {
    "name": "ipython",
    "version": 3
   },
   "file_extension": ".py",
   "mimetype": "text/x-python",
   "name": "python",
   "nbconvert_exporter": "python",
   "pygments_lexer": "ipython3",
   "version": "3.11.0"
  }
 },
 "nbformat": 4,
 "nbformat_minor": 2
}

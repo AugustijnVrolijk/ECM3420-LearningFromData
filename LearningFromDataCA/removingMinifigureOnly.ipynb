{
 "cells": [
  {
   "cell_type": "code",
   "execution_count": 13,
   "metadata": {},
   "outputs": [],
   "source": [
    "import pandas as pd\n",
    "import os.path\n",
    "import matplotlib.pyplot as plt"
   ]
  },
  {
   "cell_type": "code",
   "execution_count": 14,
   "metadata": {},
   "outputs": [
    {
     "name": "stdout",
     "output_type": "stream",
     "text": [
      "<class 'pandas.core.frame.DataFrame'>\n",
      "RangeIndex: 37601 entries, 0 to 37600\n",
      "Data columns (total 3 columns):\n",
      " #   Column   Non-Null Count  Dtype \n",
      "---  ------   --------------  ----- \n",
      " 0   id       37601 non-null  int64 \n",
      " 1   version  37601 non-null  int64 \n",
      " 2   set_num  37601 non-null  object\n",
      "dtypes: int64(2), object(1)\n",
      "memory usage: 881.4+ KB\n",
      "<class 'pandas.core.frame.DataFrame'>\n",
      "RangeIndex: 20999 entries, 0 to 20998\n",
      "Data columns (total 3 columns):\n",
      " #   Column        Non-Null Count  Dtype \n",
      "---  ------        --------------  ----- \n",
      " 0   inventory_id  20999 non-null  int64 \n",
      " 1   fig_num       20999 non-null  object\n",
      " 2   quantity      20999 non-null  int64 \n",
      "dtypes: int64(2), object(1)\n",
      "memory usage: 492.3+ KB\n"
     ]
    }
   ],
   "source": [
    "path1 = \".\\\\files\\inventories.csv\"\n",
    "path2 = \".\\\\files\\inventory_minifigs.csv\"\n",
    "\n",
    "inventories = pd.read_csv(path1)\n",
    "inventory_minifigs = pd.read_csv(path2)\n",
    "\n",
    "inventories.info()  \n",
    "inventory_minifigs.info()\n"
   ]
  },
  {
   "cell_type": "code",
   "execution_count": 15,
   "metadata": {},
   "outputs": [
    {
     "name": "stdout",
     "output_type": "stream",
     "text": [
      "<class 'pandas.core.frame.DataFrame'>\n",
      "RangeIndex: 1187306 entries, 0 to 1187305\n",
      "Data columns (total 6 columns):\n",
      " #   Column        Non-Null Count    Dtype \n",
      "---  ------        --------------    ----- \n",
      " 0   inventory_id  1187306 non-null  int64 \n",
      " 1   part_num      1187306 non-null  object\n",
      " 2   color_id      1187306 non-null  int64 \n",
      " 3   quantity      1187306 non-null  int64 \n",
      " 4   is_spare      1187306 non-null  object\n",
      " 5   img_url       1179020 non-null  object\n",
      "dtypes: int64(3), object(3)\n",
      "memory usage: 54.4+ MB\n",
      "<class 'pandas.core.frame.DataFrame'>\n",
      "RangeIndex: 4376 entries, 0 to 4375\n",
      "Data columns (total 3 columns):\n",
      " #   Column        Non-Null Count  Dtype \n",
      "---  ------        --------------  ----- \n",
      " 0   inventory_id  4376 non-null   int64 \n",
      " 1   set_num       4376 non-null   object\n",
      " 2   quantity      4376 non-null   int64 \n",
      "dtypes: int64(2), object(1)\n",
      "memory usage: 102.7+ KB\n"
     ]
    }
   ],
   "source": [
    "path3 = \".\\\\files\\inventory_parts.csv\"\n",
    "path4 = \".\\\\files\\inventory_sets.csv\"\n",
    "inventory_parts = pd.read_csv(path3)\n",
    "inventory_sets = pd.read_csv(path4)\n",
    "inventory_parts.info()\n",
    "inventory_sets.info()"
   ]
  },
  {
   "cell_type": "code",
   "execution_count": 16,
   "metadata": {},
   "outputs": [],
   "source": [
    "inventories.rename(columns={'id': 'inventory_id'}, inplace=True)\n"
   ]
  },
  {
   "cell_type": "code",
   "execution_count": 18,
   "metadata": {},
   "outputs": [
    {
     "data": {
      "text/plain": [
       "<bound method DataFrame.info of        inventory_id  version   set_num\n",
       "0                 1        1    7922-1\n",
       "1                 3        1    3931-1\n",
       "2                 4        1    6942-1\n",
       "3                15        1    5158-1\n",
       "4                16        1     903-1\n",
       "...             ...      ...       ...\n",
       "37596        200328        1  854291-1\n",
       "37597        200329        1  854292-1\n",
       "37598        200330        1  854290-1\n",
       "37599        200331        1  854294-1\n",
       "37600        200534        1   10438-1\n",
       "\n",
       "[36358 rows x 3 columns]>"
      ]
     },
     "execution_count": 18,
     "metadata": {},
     "output_type": "execute_result"
    }
   ],
   "source": [
    "inventory_sets_ids = inventory_sets['inventory_id'].unique()\n",
    "\n",
    "# Filter inventories based on inventory_sets_ids\n",
    "filtered_inventories = inventories[~inventories['inventory_id'].isin(inventory_sets_ids)]\n",
    "\n",
    "# Display the result\n",
    "filtered_inventories.info"
   ]
  },
  {
   "cell_type": "code",
   "execution_count": 19,
   "metadata": {},
   "outputs": [
    {
     "name": "stdout",
     "output_type": "stream",
     "text": [
      "<class 'pandas.core.frame.DataFrame'>\n",
      "RangeIndex: 37601 entries, 0 to 37600\n",
      "Data columns (total 3 columns):\n",
      " #   Column        Non-Null Count  Dtype \n",
      "---  ------        --------------  ----- \n",
      " 0   inventory_id  37601 non-null  int64 \n",
      " 1   version       37601 non-null  int64 \n",
      " 2   set_num       37601 non-null  object\n",
      "dtypes: int64(2), object(1)\n",
      "memory usage: 881.4+ KB\n"
     ]
    }
   ],
   "source": [
    "inventories.info()"
   ]
  }
 ],
 "metadata": {
  "kernelspec": {
   "display_name": "Python 3",
   "language": "python",
   "name": "python3"
  },
  "language_info": {
   "codemirror_mode": {
    "name": "ipython",
    "version": 3
   },
   "file_extension": ".py",
   "mimetype": "text/x-python",
   "name": "python",
   "nbconvert_exporter": "python",
   "pygments_lexer": "ipython3",
   "version": "3.11.0"
  }
 },
 "nbformat": 4,
 "nbformat_minor": 2
}
